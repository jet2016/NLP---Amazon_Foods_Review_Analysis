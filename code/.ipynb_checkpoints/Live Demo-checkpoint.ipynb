{
 "cells": [
  {
   "cell_type": "code",
   "execution_count": 1,
   "metadata": {
    "collapsed": true
   },
   "outputs": [],
   "source": [
    "%matplotlib inline"
   ]
  },
  {
   "cell_type": "code",
   "execution_count": 2,
   "metadata": {
    "collapsed": true
   },
   "outputs": [],
   "source": [
    "import os\n",
    "import pandas as pd\n",
    "import numpy as np\n",
    "import scipy as sp\n",
    "import seaborn as sns\n",
    "import matplotlib.pyplot as plt\n",
    "import json\n",
    "from IPython.display import Image\n",
    "from IPython.core.display import HTML"
   ]
  },
  {
   "cell_type": "code",
   "execution_count": 3,
   "metadata": {
    "collapsed": true
   },
   "outputs": [],
   "source": [
    "path = '/Users/eli/Desktop/DataScienceGalvanize/dsci_6004_NLP/Amazon Reviews Analysis Projects/Amazon_Reviews_Galvanize_2017/'\n",
    "os.chdir(path)"
   ]
  },
  {
   "cell_type": "code",
   "execution_count": 4,
   "metadata": {},
   "outputs": [
    {
     "name": "stdout",
     "output_type": "stream",
     "text": [
      "[['ingredient', 'to', 'avoid,', 'animal', 'digest!\",\"i', 'recently', 'bought', 'a', '7weekold', 'collie', 'puppy', 'for', 'my', 'granddaughter.', 'joy,', 'the', 'puppy', 'was', 'taken', 'from', 'her', 'mother', 'at', '2', 'weeks', 'along', 'with', '9', 'siblings', 'because', 'the', 'mother', 'was', 'not', 'producing', 'enough', 'milk.', 'it', 'was', 'the', \"mother's\", 'first', 'litter.', 'the', 'pups', 'were', 'hand', 'fed', 'a', 'formula', 'and', 'were', 'a', 'bit', 'small', 'and', 'frail', 'for', 'their', 'ages', 'though', 'their', 'price', 'was', 'not.', 'at', 'any', 'rate', 'the', 'breeder', 'had', 'them', 'on', 'pedigree', 'puppy', 'food', 'when', 'we', 'purchased', 'her', 'and', 'though', 'their', 'is', 'nothing', 'wrong', 'with', 'the', 'brand', 'i', 'wanted', 'something', 'better', 'for', 'her', 'due', 'to', 'her', 'early', 'weaning.', 'our', '2yearold', 'labradoodle', 'is', 'fed', '\"\"castor', '&', 'pollux\"\"', 'which', 'really', 'improved', 'her', 'coat', 'and', 'stamina', 'etc.', 'when', 'we', 'switched', 'from', 'another', 'brand', 'so', 'i', 'bought', 'puppy', 'food', 'in', 'the', 'same', 'brand.', 'however', 'our', 'vet', 'told', 'us', 'that', 'she', 'was', 'unfamiliar', 'with', 'the', 'brand,', 'and', 'that', 'she', \"wouldn't\", 'feed', 'it', 'to', 'her.', 'instead', 'she', 'recommended', '\"\"purina', 'one', 'smart', 'blend', 'puppy', 'formula\"\".', 'i', 'of', 'course', 'ordered', 'a', 'bag', 'and', 'stated', 'mixing', 'it', 'with', 'the', 'pedigree', 'to', 'switch', 'joy', 'over', 'slowly', 'so', 'as', 'not', 'to', 'upset', 'her', 'digestive', 'system.', 'she', 'has', 'now', 'had', 'diarrhea', 'for', '4', 'days,', 'her', 'stool', 'sample', 'shows', 'no', 'abnormalities', 'and', 'after', 'taking', 'her', 'to', 'the', 'vet', 'she', 'is', 'being', 'treated', 'with', 'medicine.', 'on', 'reading', 'the', 'list', 'of', 'ingredients', 'on', 'the', 'bag', 'of', 'purina', 'i', 'saw', 'it', 'contained', 'something', 'called', '\"\"animal', 'digest\"\".', 'i', 'thought', '\"\"what', 'in', 'the', 'world', 'could', 'that', 'be?\"\"', 'on', 'searching', 'the', 'internet', 'low', 'and', 'behold', 'i', 'discovered', 'this', 'web', 'site.'], ['i', 'snack', 'on', 'kind', 'bars', 'and', 'love', 'most', 'of', 'them;', 'they', 'are', 'filling,', 'healthy,', 'and', 'generally', 'tasty!'], ['one', 'squirt', 'is', 'all', 'it', 'took,\"i', 'had', 'never', 'tried', 'this', 'product', 'before', 'nor', 'heard', 'of', 'it', 'until', 'i', 'came', 'across', 'a', 'vegan', 'recipe', 'i', 'wanted', 'to', 'make.', 'incredibly,', 'low', 'sodium', 'soy', 'sauce', 'has', 'an', 'astonishing', '575', 'mg.', 'per', 'tbsp.', \"bragg's\", 'liquid', 'aminos', 'only', 'has', '160', 'mg.', 'per', '1/2', 'tsp.', 'one', 'squirt', 'adds', 'a', 'lot', 'of', 'flavor.', 'the', 'first', 'time', 'my', 'husband', 'and', 'i', 'tasted', 'it,', 'we', 'were', 'impressed.', 'it', 'is', 'better', 'than', 'soy', 'sauce.', 'has', 'an', 'all', 'natural', 'mild', 'taste', 'loaded', 'with', 'flavor,', 'but', 'not', 'too', 'salty.', 'would', 'be', 'excellent', 'on', 'vegetables,', 'soup', 'or', 'rice.', 'liquid', 'aminos', 'also', 'contains', '16', 'essential', 'and', 'nonessential', 'amino', 'acids.', 'i', 'had', 'a', 'hard', 'time', 'finding', 'this', 'product', 'in', 'a', 'regular', 'grocery', 'store.', 'there', 'are', 'no', 'health', 'food', 'stores', 'near,', 'so', 'i', 'was', 'delighted', 'amazon', 'carried', 'it.', 'i', 'will', 'never', 'go', 'back', 'to', 'soy', 'sauce.\"'], ['\"this', 'is', 'a', 'lovely', 'herbal', 'with', 'a', 'very', 'soft', 'yet', 'complex', 'camomile', 'based', 'flavor.', 'it', 'is', 'perfect', 'when', 'you', 'want', 'something', 'hydrating,', 'warm', 'and', 'comforting,', 'but', 'not', 'bold', 'or', 'acidic.\"']]\n"
     ]
    }
   ],
   "source": [
    "words = []\n",
    "with open(\"raw_data/Live_reviews.txt\", \"r\") as f:\n",
    "    content = f.readlines()\n",
    "    for text in content:\n",
    "        l = [t for t in text.lower().replace(\"\\n\",\"\").replace(\"-\",\"\").split(\" \") if t]\n",
    "        if len(l) > 0:\n",
    "            words.append(l)\n",
    "    print(words)"
   ]
  },
  {
   "cell_type": "code",
   "execution_count": 44,
   "metadata": {
    "collapsed": true
   },
   "outputs": [],
   "source": [
    "def draw_features():\n",
    "    X_test = []\n",
    "    y_test = []\n",
    "    clean_data=pd.read_pickle(path+'code/preprocessing_embedding.py')\n",
    "    kept_cols=['helpful', 'num_sents', 'num_words', 'readability', 'neg_senti',\n",
    "           'pos_senti', 'neu_senti', 'comp_senti']\n",
    "    vals = [126351, 196637, 169836, 135856]\n",
    "\n",
    "    my_rand_state=0\n",
    "    test_size=0.25\n",
    "    X = (clean_data[kept_cols].iloc[:,1:]).as_matrix()\n",
    "    y = (clean_data[kept_cols].iloc[:,0]).tolist()\n",
    "    for i in vals:\n",
    "        ilist = []\n",
    "        for j in X[i]:\n",
    "            ilist.append(j)\n",
    "        X_test.append(ilist)\n",
    "    y_test = [y[i] for i in vals]\n",
    "    return np.array(X_test), y_test, clean_data.iloc[vals]\n"
   ]
  },
  {
   "cell_type": "code",
   "execution_count": 55,
   "metadata": {},
   "outputs": [
    {
     "data": {
      "text/html": [
       "<div>\n",
       "<style>\n",
       "    .dataframe thead tr:only-child th {\n",
       "        text-align: right;\n",
       "    }\n",
       "\n",
       "    .dataframe thead th {\n",
       "        text-align: left;\n",
       "    }\n",
       "\n",
       "    .dataframe tbody tr th {\n",
       "        vertical-align: top;\n",
       "    }\n",
       "</style>\n",
       "<table border=\"1\" class=\"dataframe\">\n",
       "  <thead>\n",
       "    <tr style=\"text-align: right;\">\n",
       "      <th></th>\n",
       "      <th>helpful</th>\n",
       "      <th>num_sents</th>\n",
       "      <th>num_words</th>\n",
       "      <th>readability</th>\n",
       "      <th>neg_senti</th>\n",
       "      <th>pos_senti</th>\n",
       "      <th>neu_senti</th>\n",
       "      <th>comp_senti</th>\n",
       "      <th>text_lemma</th>\n",
       "      <th>vec0_x</th>\n",
       "      <th>...</th>\n",
       "      <th>vec290_y</th>\n",
       "      <th>vec291_y</th>\n",
       "      <th>vec292_y</th>\n",
       "      <th>vec293_y</th>\n",
       "      <th>vec294_y</th>\n",
       "      <th>vec295_y</th>\n",
       "      <th>vec296_y</th>\n",
       "      <th>vec297_y</th>\n",
       "      <th>vec298_y</th>\n",
       "      <th>vec299_y</th>\n",
       "    </tr>\n",
       "  </thead>\n",
       "  <tbody>\n",
       "    <tr>\n",
       "      <th>126351</th>\n",
       "      <td>0.0</td>\n",
       "      <td>0.000000</td>\n",
       "      <td>3.663562</td>\n",
       "      <td>6.742645</td>\n",
       "      <td>0.130</td>\n",
       "      <td>0.156</td>\n",
       "      <td>0.714</td>\n",
       "      <td>0.2500</td>\n",
       "      <td>complaint not star kind ius buy little bit coc...</td>\n",
       "      <td>-0.047469</td>\n",
       "      <td>...</td>\n",
       "      <td>-0.238905</td>\n",
       "      <td>0.040386</td>\n",
       "      <td>0.009930</td>\n",
       "      <td>-0.081674</td>\n",
       "      <td>0.034412</td>\n",
       "      <td>0.055646</td>\n",
       "      <td>-0.039959</td>\n",
       "      <td>-0.135034</td>\n",
       "      <td>0.058390</td>\n",
       "      <td>0.147638</td>\n",
       "    </tr>\n",
       "    <tr>\n",
       "      <th>196637</th>\n",
       "      <td>0.0</td>\n",
       "      <td>1.098612</td>\n",
       "      <td>3.988984</td>\n",
       "      <td>6.740283</td>\n",
       "      <td>0.026</td>\n",
       "      <td>0.220</td>\n",
       "      <td>0.754</td>\n",
       "      <td>0.9275</td>\n",
       "      <td>amazing cookie like oatmeal raisin cookie mois...</td>\n",
       "      <td>0.003308</td>\n",
       "      <td>...</td>\n",
       "      <td>-0.195186</td>\n",
       "      <td>0.074602</td>\n",
       "      <td>0.008714</td>\n",
       "      <td>-0.112445</td>\n",
       "      <td>0.030326</td>\n",
       "      <td>-0.017276</td>\n",
       "      <td>0.075626</td>\n",
       "      <td>-0.116189</td>\n",
       "      <td>0.009336</td>\n",
       "      <td>0.264531</td>\n",
       "    </tr>\n",
       "    <tr>\n",
       "      <th>169836</th>\n",
       "      <td>0.0</td>\n",
       "      <td>1.386294</td>\n",
       "      <td>4.867534</td>\n",
       "      <td>6.748056</td>\n",
       "      <td>0.064</td>\n",
       "      <td>0.071</td>\n",
       "      <td>0.864</td>\n",
       "      <td>0.2012</td>\n",
       "      <td>not get back dispense half cup realize instant...</td>\n",
       "      <td>-0.024380</td>\n",
       "      <td>...</td>\n",
       "      <td>-0.191624</td>\n",
       "      <td>0.039969</td>\n",
       "      <td>0.054762</td>\n",
       "      <td>-0.087314</td>\n",
       "      <td>-0.029493</td>\n",
       "      <td>0.044389</td>\n",
       "      <td>-0.045008</td>\n",
       "      <td>-0.128574</td>\n",
       "      <td>0.049164</td>\n",
       "      <td>0.072536</td>\n",
       "    </tr>\n",
       "    <tr>\n",
       "      <th>135856</th>\n",
       "      <td>0.0</td>\n",
       "      <td>1.791759</td>\n",
       "      <td>4.174387</td>\n",
       "      <td>6.736967</td>\n",
       "      <td>0.076</td>\n",
       "      <td>0.177</td>\n",
       "      <td>0.747</td>\n",
       "      <td>0.6966</td>\n",
       "      <td>receive bag sugar free candy find mention ingr...</td>\n",
       "      <td>-0.086823</td>\n",
       "      <td>...</td>\n",
       "      <td>-0.205492</td>\n",
       "      <td>0.051983</td>\n",
       "      <td>-0.039895</td>\n",
       "      <td>-0.066427</td>\n",
       "      <td>0.029157</td>\n",
       "      <td>-0.002752</td>\n",
       "      <td>-0.044939</td>\n",
       "      <td>-0.147429</td>\n",
       "      <td>0.081270</td>\n",
       "      <td>0.161165</td>\n",
       "    </tr>\n",
       "  </tbody>\n",
       "</table>\n",
       "<p>4 rows × 609 columns</p>\n",
       "</div>"
      ],
      "text/plain": [
       "        helpful  num_sents  num_words  readability  neg_senti  pos_senti  \\\n",
       "126351      0.0   0.000000   3.663562     6.742645      0.130      0.156   \n",
       "196637      0.0   1.098612   3.988984     6.740283      0.026      0.220   \n",
       "169836      0.0   1.386294   4.867534     6.748056      0.064      0.071   \n",
       "135856      0.0   1.791759   4.174387     6.736967      0.076      0.177   \n",
       "\n",
       "        neu_senti  comp_senti  \\\n",
       "126351      0.714      0.2500   \n",
       "196637      0.754      0.9275   \n",
       "169836      0.864      0.2012   \n",
       "135856      0.747      0.6966   \n",
       "\n",
       "                                               text_lemma    vec0_x    ...     \\\n",
       "126351  complaint not star kind ius buy little bit coc... -0.047469    ...      \n",
       "196637  amazing cookie like oatmeal raisin cookie mois...  0.003308    ...      \n",
       "169836  not get back dispense half cup realize instant... -0.024380    ...      \n",
       "135856  receive bag sugar free candy find mention ingr... -0.086823    ...      \n",
       "\n",
       "        vec290_y  vec291_y  vec292_y  vec293_y  vec294_y  vec295_y  vec296_y  \\\n",
       "126351 -0.238905  0.040386  0.009930 -0.081674  0.034412  0.055646 -0.039959   \n",
       "196637 -0.195186  0.074602  0.008714 -0.112445  0.030326 -0.017276  0.075626   \n",
       "169836 -0.191624  0.039969  0.054762 -0.087314 -0.029493  0.044389 -0.045008   \n",
       "135856 -0.205492  0.051983 -0.039895 -0.066427  0.029157 -0.002752 -0.044939   \n",
       "\n",
       "        vec297_y  vec298_y  vec299_y  \n",
       "126351 -0.135034  0.058390  0.147638  \n",
       "196637 -0.116189  0.009336  0.264531  \n",
       "169836 -0.128574  0.049164  0.072536  \n",
       "135856 -0.147429  0.081270  0.161165  \n",
       "\n",
       "[4 rows x 609 columns]"
      ]
     },
     "execution_count": 55,
     "metadata": {},
     "output_type": "execute_result"
    }
   ],
   "source": [
    "X_test, y_test, data = draw_features()\n",
    "data"
   ]
  },
  {
   "cell_type": "markdown",
   "metadata": {},
   "source": [
    "## Testing Estimators"
   ]
  },
  {
   "cell_type": "code",
   "execution_count": 49,
   "metadata": {
    "collapsed": true
   },
   "outputs": [],
   "source": [
    "from sklearn.metrics import roc_curve, auc\n",
    "from sklearn.externals import joblib"
   ]
  },
  {
   "cell_type": "code",
   "execution_count": null,
   "metadata": {
    "collapsed": true
   },
   "outputs": [],
   "source": [
    "nb_clf_est_b=joblib.load('./other_output/nb_clf_est_b.pkl')\n",
    "log_clf_est_b=joblib.load('./other_output/log_clf_est_b.pkl')\n",
    "knn_clf_est_b=joblib.load('./other_output/knn_clf_est_b.pkl')\n",
    "rf_clf_est_b=joblib.load('./other_output/rf_clf_est_b.pkl')"
   ]
  },
  {
   "cell_type": "code",
   "execution_count": 16,
   "metadata": {},
   "outputs": [
    {
     "name": "stdout",
     "output_type": "stream",
     "text": [
      "/Users/eli/Desktop/DataScienceGalvanize/dsci_6004_NLP/Amazon Reviews Analysis Projects/Amazon_Reviews_Galvanize_2017\r\n"
     ]
    }
   ],
   "source": [
    "!pwd"
   ]
  },
  {
   "cell_type": "code",
   "execution_count": 50,
   "metadata": {},
   "outputs": [
    {
     "name": "stderr",
     "output_type": "stream",
     "text": [
      "/Users/eli/anaconda3/envs/nlp/lib/python3.6/site-packages/sklearn/metrics/ranking.py:547: UndefinedMetricWarning: No positive samples in y_true, true positive value should be meaningless\n",
      "  UndefinedMetricWarning)\n"
     ]
    }
   ],
   "source": [
    "nb_clf_est_b=joblib.load('other_output/nb_clf_est_b.pkl')\n",
    "nb_fpr, nb_tpr, _ = roc_curve(y_test, \n",
    "                    nb_clf_est_b.predict_proba(X_test)[:,1])\n",
    "nb_roc_auc = auc(nb_fpr, nb_tpr)"
   ]
  },
  {
   "cell_type": "code",
   "execution_count": 54,
   "metadata": {},
   "outputs": [
    {
     "data": {
      "text/plain": [
       "array([[ 0.88143956,  0.11856044],\n",
       "       [ 0.82788536,  0.17211464],\n",
       "       [ 0.76462958,  0.23537042],\n",
       "       [ 0.78032519,  0.21967481]])"
      ]
     },
     "execution_count": 54,
     "metadata": {},
     "output_type": "execute_result"
    }
   ],
   "source": [
    "nb_clf_est_b.predict_proba(X_test)"
   ]
  },
  {
   "cell_type": "code",
   "execution_count": 53,
   "metadata": {
    "collapsed": true
   },
   "outputs": [],
   "source": [
    "nb_fpr, nb_tpr, _ = roc_curve(y_test, \n",
    "                    nb_clf_est_b.predict_proba(X_test)[:,1])\n",
    "nb_roc_auc = auc(nb_fpr, nb_tpr)\n",
    "\n",
    "\n",
    "\n",
    "knn_fpr, knn_tpr, _ = roc_curve(y_test, \n",
    "                    knn_clf_est_b.predict_proba(X_test)[:,1])\n",
    "knn_roc_auc = auc(knn_fpr, knn_tpr)\n",
    "\n",
    "rf_fpr, rf_tpr, _ = roc_curve(y_test, \n",
    "                    rf_clf_est_b.predict_proba(X_test)[:,1])\n",
    "rf_roc_auc = auc(rf_fpr, rf_tpr)\n",
    "\n"
   ]
  }
 ],
 "metadata": {
  "kernelspec": {
   "display_name": "Python 3",
   "language": "python",
   "name": "python3"
  },
  "language_info": {
   "codemirror_mode": {
    "name": "ipython",
    "version": 3
   },
   "file_extension": ".py",
   "mimetype": "text/x-python",
   "name": "python",
   "nbconvert_exporter": "python",
   "pygments_lexer": "ipython3",
   "version": "3.6.0"
  }
 },
 "nbformat": 4,
 "nbformat_minor": 2
}
